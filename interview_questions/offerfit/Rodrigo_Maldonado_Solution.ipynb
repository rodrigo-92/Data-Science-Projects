{
 "cells": [
  {
   "cell_type": "code",
   "execution_count": 417,
   "metadata": {},
   "outputs": [],
   "source": [
    "\"\"\"\n",
    "Instructions:\n",
    "\n",
    "- Fill in the methods of the DataModeler class to produce the same printed results\n",
    "  as in the comments labeled '<Expected Output>' in the second half of the file.\n",
    "- The DataModeler should predict the 'outcome' from the columns 'amount' and 'transaction date.'\n",
    "  Your model should ignore the 'customer_id' column.\n",
    "- For the modeling methods `fit`, `predict` and `model_summary` you can use any appropriate method.\n",
    "  Try to get 100% accuracy on both training and test, as indicated in the output.\n",
    "- Your solution will be judged on both correctness and code quality.\n",
    "- Good luck, and have fun!\n",
    "\n",
    "\"\"\"\n",
    "\n",
    "from __future__ import annotations\n",
    "import numpy as np\n",
    "import pandas as pd\n",
    "from datetime import datetime\n",
    "from sklearn.ensemble import RandomForestClassifier\n",
    "import warnings\n",
    "import joblib\n",
    "\n",
    "warnings.filterwarnings(\"ignore\")\n",
    "\n",
    "class DataModeler:\n",
    "    def __init__(self, sample_df: pd.DataFrame):\n",
    "        '''\n",
    "        Initialize the DataModeler as necessary.\n",
    "        '''\n",
    "        # ** Your code here **\n",
    "        self.train_df = sample_df\n",
    "\n",
    "    def prepare_data(self, oos_df: pd.DataFrame = None) -> pd.DataFrame:\n",
    "        '''\n",
    "        Prepare a dataframe so it contains only the columns to model and having suitable types.\n",
    "        If the argument is None, work on the training data passed in the constructor.\n",
    "        '''\n",
    "        # ** Your code here **\n",
    "        if oos_df is None:\n",
    "            self.train_labels_df = self.train_df.loc[:,['outcome']].copy()\n",
    "            self.train_df = self.train_df.loc[:,['amount','transaction_date']].copy()\n",
    "            self.train_df['transaction_date'] = self.train_df.transaction_date.apply(lambda x: datetime.strptime(x, '%Y-%m-%d').timestamp() if x is not None else None)\n",
    "        else:\n",
    "            oos_df = oos_df.loc[:,['amount','transaction_date']].copy()\n",
    "            oos_df['transaction_date'] = oos_df.transaction_date.apply(lambda x: datetime.strptime(x, '%Y-%m-%d').timestamp() if x is not None else None)\n",
    "            return oos_df\n",
    "\n",
    "    def impute_missing(self, oos_df: pd.DataFrame = None) -> pd.DataFrame:\n",
    "        '''\n",
    "        Fill any missing values with the appropriate mean (average) value.\n",
    "        If the argument is None, work on the training data passed in the constructor.\n",
    "        '''\n",
    "        # ** Your code here **\n",
    "        if oos_df is None:\n",
    "            mean_values = self.train_df.mean()\n",
    "            self.train_df.fillna(mean_values,inplace=True)\n",
    "        else:\n",
    "            mean_values = oos_df.mean()\n",
    "            oos_df.fillna(mean_values,inplace=True)\n",
    "            return oos_df\n",
    "\n",
    "    def fit(self) -> None:\n",
    "        '''\n",
    "        Fit the model of your choice on the training data paased in the constructor, assuming it has\n",
    "        been prepared by the functions prepare_data and impute_missing\n",
    "        '''\n",
    "        # ** Your code here **\n",
    "        self.model = RandomForestClassifier(n_estimators=10, max_depth=3, random_state=5)\n",
    "\n",
    "        self.model.fit(self.train_df, self.train_labels_df)\n",
    "\n",
    "    def model_summary(self) -> str:\n",
    "        '''\n",
    "        Create a short summary of the model you have fit.\n",
    "        '''\n",
    "        # ** Your code here **\n",
    "        return self.model.get_params()\n",
    "\n",
    "    def predict(self, oos_df: pd.DataFrame = None) -> pd.Series[bool]:\n",
    "        '''\n",
    "        Make a set of predictions with your model. Assume the data has been prepared by the\n",
    "        functions prepare_data and impute_missing.\n",
    "        If the argument is None, work on the training data passed in the constructor.\n",
    "        '''\n",
    "        # ** Your code here **\n",
    "        if oos_df is None:\n",
    "            predictions = self.model.predict(self.train_df)\n",
    "        else:\n",
    "            predictions = self.model.predict(oos_df)\n",
    "        return predictions\n",
    "\n",
    "    def save(self, path: str) -> None:\n",
    "        '''\n",
    "        Save the DataModeler so it can be re-used.\n",
    "        '''\n",
    "        # ** Your code here **\n",
    "        joblib.dump(self, path)\n",
    "\n",
    "    @staticmethod\n",
    "    def load(path: str) -> DataModeler:\n",
    "        '''\n",
    "        Reload the DataModeler from the saved state so it can be re-used.\n",
    "        '''\n",
    "        # ** Your code here **\n",
    "        return joblib.load(path)"
   ]
  },
  {
   "cell_type": "code",
   "execution_count": 418,
   "metadata": {},
   "outputs": [
    {
     "name": "stdout",
     "output_type": "stream",
     "text": [
      "Training sample:\n",
      "   customer_id  amount transaction_date  outcome\n",
      "0           11     1.0       2022-01-01    False\n",
      "1           12     3.0       2022-08-01     True\n",
      "2           13    12.0             None     True\n",
      "3           14     6.0       2022-12-01     True\n",
      "4           15     0.5       2022-02-01    False\n",
      "5           16     0.2             None    False\n",
      "6           17     NaN       2022-02-01     True\n",
      "7           18     5.0       2022-01-01     True\n",
      "8           19     NaN       2022-11-01     True\n",
      "9           20     3.0       2022-01-01    False\n",
      "\n",
      "Current dtypes:\n",
      "customer_id           int64\n",
      "amount              float64\n",
      "transaction_date     object\n",
      "outcome                bool\n",
      "dtype: object\n",
      "\n"
     ]
    }
   ],
   "source": [
    "#################################################################################\n",
    "# You should not have to modify the code below this point\n",
    "\n",
    "transact_train_sample = pd.DataFrame(\n",
    "    {\n",
    "        \"customer_id\": [11, 12, 13, 14, 15, 16, 17, 18, 19, 20],\n",
    "        \"amount\": [1, 3, 12, 6, 0.5, 0.2, np.nan, 5, np.nan, 3],\n",
    "        \"transaction_date\": [\n",
    "            '2022-01-01',\n",
    "            '2022-08-01',\n",
    "            None,\n",
    "            '2022-12-01',\n",
    "            '2022-02-01',\n",
    "            None,\n",
    "            '2022-02-01',\n",
    "            '2022-01-01',\n",
    "            '2022-11-01',\n",
    "            '2022-01-01'\n",
    "        ],\n",
    "        \"outcome\" : [False, True, True, True, False, False, True, True, True, False]\n",
    "    }\n",
    ")\n",
    "\n",
    "\n",
    "print(f\"Training sample:\\n{transact_train_sample}\\n\")\n",
    "\n",
    "# <Expected Output>\n",
    "# Training sample:\n",
    "#    customer_id  amount transaction_date  outcome\n",
    "# 0           11     1.0       2022-01-01    False\n",
    "# 1           12     3.0       2022-08-01     True\n",
    "# 2           13    12.0             None     True\n",
    "# 3           14     6.0       2022-12-01     True\n",
    "# 4           15     0.5       2022-02-01    False\n",
    "# 5           16     0.2             None    False\n",
    "# 6           17     NaN       2022-02-01     True\n",
    "# 7           18     5.0       2022-01-01     True\n",
    "# 8           19     NaN       2022-11-01     True\n",
    "# 9           20     3.0       2022-01-01    False\n",
    "\n",
    "\n",
    "print(f\"Current dtypes:\\n{transact_train_sample.dtypes}\\n\")\n",
    "\n",
    "# <Expected Output>\n",
    "# Current dtypes:\n",
    "# customer_id           int64\n",
    "# amount              float64\n",
    "# transaction_date     object\n",
    "# outcome                bool\n",
    "# dtype: object\n",
    "\n",
    "transactions_modeler = DataModeler(transact_train_sample)"
   ]
  },
  {
   "cell_type": "code",
   "execution_count": 419,
   "metadata": {},
   "outputs": [
    {
     "name": "stdout",
     "output_type": "stream",
     "text": [
      "Changed columns to:\n",
      "amount              float64\n",
      "transaction_date    float64\n",
      "dtype: object\n",
      "\n"
     ]
    }
   ],
   "source": [
    "transactions_modeler.prepare_data()\n",
    "\n",
    "print(f\"Changed columns to:\\n{transactions_modeler.train_df.dtypes}\\n\")\n",
    "\n",
    "# <Expected Output>\n",
    "# Changed columns to:\n",
    "# amount              float64\n",
    "# transaction_date    float64\n",
    "# dtype: object"
   ]
  },
  {
   "cell_type": "code",
   "execution_count": 420,
   "metadata": {},
   "outputs": [
    {
     "name": "stdout",
     "output_type": "stream",
     "text": [
      "Imputed missing as mean:\n",
      "    amount  transaction_date\n",
      "0   1.0000      1.641013e+09\n",
      "1   3.0000      1.659330e+09\n",
      "2  12.0000      1.650863e+09\n",
      "3   6.0000      1.669871e+09\n",
      "4   0.5000      1.643692e+09\n",
      "5   0.2000      1.650863e+09\n",
      "6   3.8375      1.643692e+09\n",
      "7   5.0000      1.641013e+09\n",
      "8   3.8375      1.667279e+09\n",
      "9   3.0000      1.641013e+09\n",
      "\n"
     ]
    }
   ],
   "source": [
    "transactions_modeler.impute_missing()\n",
    "\n",
    "print(f\"Imputed missing as mean:\\n{transactions_modeler.train_df}\\n\")\n",
    "\n",
    "# <Expected Output>\n",
    "# Imputed missing as mean:\n",
    "#               amount  transaction_date\n",
    "# customer_id\n",
    "# 11            1.0000      1.640995e+18\n",
    "# 12            3.0000      1.659312e+18\n",
    "# 13           12.0000      1.650845e+18\n",
    "# 14            6.0000      1.669853e+18\n",
    "# 15            0.5000      1.643674e+18\n",
    "# 16            0.2000      1.650845e+18\n",
    "# 17            3.8375      1.643674e+18\n",
    "# 18            5.0000      1.640995e+18\n",
    "# 19            3.8375      1.667261e+18\n",
    "# 20            3.0000      1.640995e+18"
   ]
  },
  {
   "cell_type": "code",
   "execution_count": 421,
   "metadata": {},
   "outputs": [
    {
     "name": "stdout",
     "output_type": "stream",
     "text": [
      "Fitting  model\n",
      "Fit model:\n",
      "{'bootstrap': True, 'ccp_alpha': 0.0, 'class_weight': None, 'criterion': 'gini', 'max_depth': 3, 'max_features': 'sqrt', 'max_leaf_nodes': None, 'max_samples': None, 'min_impurity_decrease': 0.0, 'min_samples_leaf': 1, 'min_samples_split': 2, 'min_weight_fraction_leaf': 0.0, 'n_estimators': 10, 'n_jobs': None, 'oob_score': False, 'random_state': 5, 'verbose': 0, 'warm_start': False}\n",
      "\n"
     ]
    }
   ],
   "source": [
    "print(\"Fitting  model\")\n",
    "transactions_modeler.fit()\n",
    "\n",
    "print(f\"Fit model:\\n{transactions_modeler.model_summary()}\\n\")\n",
    "\n",
    "# <Expected Output>\n",
    "# Fitting  model\n",
    "# Fit model:\n",
    "# <<< ANY SHORT SUMMARY OF THE MODEL YOU CHOSE >>>\n"
   ]
  },
  {
   "cell_type": "code",
   "execution_count": 422,
   "metadata": {},
   "outputs": [
    {
     "name": "stdout",
     "output_type": "stream",
     "text": [
      "Predicted on training sample: [False  True  True  True False False  True  True  True False]\n",
      "\n",
      "Accuracy = 100.0%\n"
     ]
    }
   ],
   "source": [
    "in_sample_predictions = transactions_modeler.predict()\n",
    "print(f\"Predicted on training sample: {in_sample_predictions}\\n\")\n",
    "print(f'Accuracy = {sum(in_sample_predictions ==  [False, True, True, True, False, False, True, True, True, False])/.1}%')\n",
    "\n",
    "# <Expected Output>\n",
    "# Predicting on training sample [False  True  True  True False False True  True  True False]\n",
    "# Accuracy = 100.0%\n"
   ]
  },
  {
   "cell_type": "code",
   "execution_count": 423,
   "metadata": {},
   "outputs": [
    {
     "name": "stdout",
     "output_type": "stream",
     "text": [
      "Loaded DataModeler sample df:\n",
      "{'bootstrap': True, 'ccp_alpha': 0.0, 'class_weight': None, 'criterion': 'gini', 'max_depth': 3, 'max_features': 'sqrt', 'max_leaf_nodes': None, 'max_samples': None, 'min_impurity_decrease': 0.0, 'min_samples_leaf': 1, 'min_samples_split': 2, 'min_weight_fraction_leaf': 0.0, 'n_estimators': 10, 'n_jobs': None, 'oob_score': False, 'random_state': 5, 'verbose': 0, 'warm_start': False}\n",
      "\n"
     ]
    }
   ],
   "source": [
    "transactions_modeler.save(\"transact_modeler\")\n",
    "loaded_modeler = DataModeler.load(\"transact_modeler\")\n",
    "\n",
    "print(f\"Loaded DataModeler sample df:\\n{loaded_modeler.model_summary()}\\n\")\n",
    "\n",
    "# <Expected Output>\n",
    "# Loaded DataModeler sample df:\n",
    "# <<< THE SUMMARY OF THE MODEL YOU CHOSE >>>"
   ]
  },
  {
   "attachments": {},
   "cell_type": "markdown",
   "metadata": {},
   "source": [
    "# Test"
   ]
  },
  {
   "cell_type": "code",
   "execution_count": 424,
   "metadata": {},
   "outputs": [
    {
     "name": "stdout",
     "output_type": "stream",
     "text": [
      "Changed columns to:\n",
      "amount              float64\n",
      "transaction_date    float64\n",
      "dtype: object\n",
      "\n"
     ]
    }
   ],
   "source": [
    "transact_test_sample = pd.DataFrame(\n",
    "    {\n",
    "        \"customer_id\": [21, 22, 23, 24, 25],\n",
    "        \"amount\": [0.5, np.nan, 8, 3, 2],\n",
    "        \"transaction_date\": [\n",
    "            '2022-02-01',\n",
    "            '2022-11-01',\n",
    "            '2022-06-01',\n",
    "            None,\n",
    "            '2022-02-01'\n",
    "        ]\n",
    "    }\n",
    ")\n",
    "\n",
    "adjusted_test_sample = transactions_modeler.prepare_data(transact_test_sample)\n",
    "\n",
    "print(f\"Changed columns to:\\n{adjusted_test_sample.dtypes}\\n\")\n",
    "\n",
    "# <Expected Output>\n",
    "# Changed columns to:\n",
    "# amount              float64\n",
    "# transaction_date    float64\n",
    "# dtype: object\n"
   ]
  },
  {
   "cell_type": "code",
   "execution_count": 425,
   "metadata": {},
   "outputs": [
    {
     "name": "stdout",
     "output_type": "stream",
     "text": [
      "Imputed missing as mean:\n",
      "   amount  transaction_date\n",
      "0   0.500      1.643692e+09\n",
      "1   3.375      1.667279e+09\n",
      "2   8.000      1.654060e+09\n",
      "3   3.000      1.652180e+09\n",
      "4   2.000      1.643692e+09\n",
      "\n"
     ]
    }
   ],
   "source": [
    "filled_test_sample = transactions_modeler.impute_missing(adjusted_test_sample)\n",
    "\n",
    "print(f\"Imputed missing as mean:\\n{filled_test_sample}\\n\")\n",
    "\n",
    "# <Expected Output>\n",
    "# Imputed missing as mean:\n",
    "#              amount  transaction_date\n",
    "# customer_id\n",
    "# 21           0.5000      1.643674e+18\n",
    "# 22           3.8375      1.667261e+18\n",
    "# 23           8.0000      1.654042e+18\n",
    "# 24           3.0000      1.650845e+18\n",
    "# 25           2.0000      1.643674e+18"
   ]
  },
  {
   "cell_type": "code",
   "execution_count": 426,
   "metadata": {},
   "outputs": [
    {
     "name": "stdout",
     "output_type": "stream",
     "text": [
      "Predicted on out of sample data: [False  True  True False False]\n",
      "\n",
      "Accuracy = 100.0%\n"
     ]
    }
   ],
   "source": [
    "oos_predictions = transactions_modeler.predict(filled_test_sample)\n",
    "print(f\"Predicted on out of sample data: {oos_predictions}\\n\")\n",
    "print(f'Accuracy = {sum(oos_predictions == [False, True, True, False, False])/.05}%')\n",
    "\n",
    "# <Expected Output>\n",
    "# Predicted on out of sample data: [False True True False False] ([0 1 1 0 0])\n",
    "# Accuracy = 100.0%"
   ]
  },
  {
   "cell_type": "code",
   "execution_count": null,
   "metadata": {},
   "outputs": [],
   "source": []
  },
  {
   "cell_type": "code",
   "execution_count": null,
   "metadata": {},
   "outputs": [],
   "source": []
  }
 ],
 "metadata": {
  "kernelspec": {
   "display_name": "base",
   "language": "python",
   "name": "python3"
  },
  "language_info": {
   "codemirror_mode": {
    "name": "ipython",
    "version": 3
   },
   "file_extension": ".py",
   "mimetype": "text/x-python",
   "name": "python",
   "nbconvert_exporter": "python",
   "pygments_lexer": "ipython3",
   "version": "3.10.8"
  },
  "orig_nbformat": 4
 },
 "nbformat": 4,
 "nbformat_minor": 2
}
