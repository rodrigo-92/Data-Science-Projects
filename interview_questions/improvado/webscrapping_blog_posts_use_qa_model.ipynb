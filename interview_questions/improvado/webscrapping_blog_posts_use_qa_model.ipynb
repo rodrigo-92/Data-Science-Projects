{
 "cells": [
  {
   "cell_type": "code",
   "execution_count": 1,
   "metadata": {},
   "outputs": [],
   "source": [
    "import re\n",
    "import bs4\n",
    "import requests\n",
    "from urllib.parse import urljoin\n",
    "\n",
    "from transformers import pipeline"
   ]
  },
  {
   "attachments": {},
   "cell_type": "markdown",
   "metadata": {},
   "source": [
    "# Request website to scrap"
   ]
  },
  {
   "cell_type": "code",
   "execution_count": 15,
   "metadata": {},
   "outputs": [],
   "source": [
    "website_url = \"https://improvado.io\""
   ]
  },
  {
   "attachments": {},
   "cell_type": "markdown",
   "metadata": {},
   "source": [
    "# Improvado - Blog"
   ]
  },
  {
   "attachments": {},
   "cell_type": "markdown",
   "metadata": {},
   "source": [
    "## Web scraping"
   ]
  },
  {
   "cell_type": "code",
   "execution_count": 16,
   "metadata": {},
   "outputs": [],
   "source": [
    "path_to_webscrape = 'blog'"
   ]
  },
  {
   "cell_type": "code",
   "execution_count": 105,
   "metadata": {},
   "outputs": [],
   "source": [
    "response = requests.get(urljoin(website_url, path_to_webscrape))\n",
    "if not response.ok:\n",
    "    print('Error in response happend')"
   ]
  },
  {
   "cell_type": "code",
   "execution_count": 108,
   "metadata": {},
   "outputs": [],
   "source": [
    "# parse response\n",
    "soup = bs4.BeautifulSoup(response.text, 'html.parser')\n",
    "\n",
    "# find content\n",
    "content = soup.find('div', {'class': re.compile(r'blog-posts')})"
   ]
  },
  {
   "cell_type": "code",
   "execution_count": 119,
   "metadata": {},
   "outputs": [],
   "source": [
    "def get_header_info(post_soup: bs4.BeautifulSoup) -> tuple:\n",
    "    title = post_soup.find('div',{'class':'blog-post-header'}).h1.text\n",
    "    author = post_soup.find('div',{'class': re.compile(r'blog-post-author')}).text\n",
    "    date = post_soup.find('div',{'class': re.compile(r'blog-post-date')}).text\n",
    "\n",
    "    return (title, author, date)\n",
    "\n",
    "def get_post_content(post_soup: bs4.BeautifulSoup) -> str:\n",
    "    post_content = post_soup.find('div',{'id':'content'})\n",
    "    text = post_content.text.replace(\"â\",\"'\")\n",
    "\n",
    "    return text"
   ]
  },
  {
   "cell_type": "code",
   "execution_count": 129,
   "metadata": {},
   "outputs": [],
   "source": [
    "# first tables content contains latest posts, so only grab tags including the right url\n",
    "list_posts = content.find_all('div',{'role': 'listitem'})\n",
    "\n",
    "context = []\n",
    "\n",
    "for post in list_posts[:5]:\n",
    "    url_post = urljoin(website_url, post.a['href'])\n",
    "\n",
    "    # request website\n",
    "    post = requests.get(url_post)\n",
    "    post_soup = bs4.BeautifulSoup(post.text, 'html.parser')\n",
    "    \n",
    "    # get header info\n",
    "    title, author, date = get_header_info(post_soup)\n",
    "\n",
    "    # get post content info\n",
    "    post_content = get_post_content(post_soup)\n",
    "\n",
    "    # make context \n",
    "    make_context_text = f'{author} at {date} wrote {title}. This is the following content. {post_content}'\n",
    "    context.append(make_context_text)"
   ]
  },
  {
   "cell_type": "code",
   "execution_count": 135,
   "metadata": {},
   "outputs": [],
   "source": [
    "context = ' '.join(context)"
   ]
  },
  {
   "attachments": {},
   "cell_type": "markdown",
   "metadata": {},
   "source": [
    "## QA model"
   ]
  },
  {
   "cell_type": "code",
   "execution_count": 131,
   "metadata": {},
   "outputs": [
    {
     "name": "stderr",
     "output_type": "stream",
     "text": [
      "No model was supplied, defaulted to distilbert-base-cased-distilled-squad and revision 626af31 (https://huggingface.co/distilbert-base-cased-distilled-squad).\n",
      "Using a pipeline without specifying a model name and revision in production is not recommended.\n",
      "Some layers from the model checkpoint at distilbert-base-cased-distilled-squad were not used when initializing TFDistilBertForQuestionAnswering: ['dropout_19']\n",
      "- This IS expected if you are initializing TFDistilBertForQuestionAnswering from the checkpoint of a model trained on another task or with another architecture (e.g. initializing a BertForSequenceClassification model from a BertForPreTraining model).\n",
      "- This IS NOT expected if you are initializing TFDistilBertForQuestionAnswering from the checkpoint of a model that you expect to be exactly identical (initializing a BertForSequenceClassification model from a BertForSequenceClassification model).\n",
      "Some layers of TFDistilBertForQuestionAnswering were not initialized from the model checkpoint at distilbert-base-cased-distilled-squad and are newly initialized: ['dropout_59']\n",
      "You should probably TRAIN this model on a down-stream task to be able to use it for predictions and inference.\n"
     ]
    }
   ],
   "source": [
    "qa_model = pipeline(\"question-answering\")"
   ]
  },
  {
   "cell_type": "code",
   "execution_count": 142,
   "metadata": {},
   "outputs": [
    {
     "data": {
      "text/plain": [
       "{'score': 0.8670777678489685,\n",
       " 'start': 32917,\n",
       " 'end': 32924,\n",
       " 'answer': 'the CPC'}"
      ]
     },
     "execution_count": 142,
     "metadata": {},
     "output_type": "execute_result"
    }
   ],
   "source": [
    "question = \"What is a salesforce dashboard?\"\n",
    "context = context\n",
    "result = qa_model(question = question, context = context)\n",
    "result"
   ]
  },
  {
   "cell_type": "code",
   "execution_count": 143,
   "metadata": {},
   "outputs": [
    {
     "data": {
      "text/plain": [
       "{'score': 0.44610846042633057,\n",
       " 'start': 1509,\n",
       " 'end': 1552,\n",
       " 'answer': \"using the platform's built-in functionality\"}"
      ]
     },
     "execution_count": 143,
     "metadata": {},
     "output_type": "execute_result"
    }
   ],
   "source": [
    "question = \"How to build a Salesforce dashboard?\"\n",
    "context = context\n",
    "result = qa_model(question = question, context = context)\n",
    "result"
   ]
  },
  {
   "cell_type": "code",
   "execution_count": 144,
   "metadata": {},
   "outputs": [
    {
     "data": {
      "text/plain": [
       "{'score': 0.7752603888511658,\n",
       " 'start': 43449,\n",
       " 'end': 43482,\n",
       " 'answer': 'Cross-Channel DashboardsNaturally'}"
      ]
     },
     "execution_count": 144,
     "metadata": {},
     "output_type": "execute_result"
    }
   ],
   "source": [
    "question = \"What's Einstein Analytics?\"\n",
    "context = context\n",
    "result = qa_model(question = question, context = context)\n",
    "result"
   ]
  },
  {
   "attachments": {},
   "cell_type": "markdown",
   "metadata": {},
   "source": [
    "# Future works and key improvements"
   ]
  },
  {
   "attachments": {},
   "cell_type": "markdown",
   "metadata": {},
   "source": [
    "- Clean special characters that are not being decoded correctly\n",
    "- Scrap the blog contents better. So far it is pulling all text at once, but we could improve the format of lists and embedded text blocks\n",
    "- Fine-tune a Q&A model. Now, I'm using a pretrained Hugging Face Q&A model, however to improve the results of the answers, we'd need a dataset with questions and answers to fine tune this model."
   ]
  },
  {
   "cell_type": "code",
   "execution_count": null,
   "metadata": {},
   "outputs": [],
   "source": []
  }
 ],
 "metadata": {
  "kernelspec": {
   "display_name": "base",
   "language": "python",
   "name": "python3"
  },
  "language_info": {
   "codemirror_mode": {
    "name": "ipython",
    "version": 3
   },
   "file_extension": ".py",
   "mimetype": "text/x-python",
   "name": "python",
   "nbconvert_exporter": "python",
   "pygments_lexer": "ipython3",
   "version": "3.10.8"
  },
  "orig_nbformat": 4,
  "vscode": {
   "interpreter": {
    "hash": "c633461e12ddbd51a02e1735af6afd1d7dd20effaf171e9e2afa76d128a40c4b"
   }
  }
 },
 "nbformat": 4,
 "nbformat_minor": 2
}
